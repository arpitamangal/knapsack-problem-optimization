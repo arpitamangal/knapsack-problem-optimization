{
  "nbformat": 4,
  "nbformat_minor": 0,
  "metadata": {
    "colab": {
      "provenance": [],
      "authorship_tag": "ABX9TyOb/y3QKq2T8IXyRy8/4HTy",
      "include_colab_link": true
    },
    "kernelspec": {
      "name": "python3",
      "display_name": "Python 3"
    },
    "language_info": {
      "name": "python"
    }
  },
  "cells": [
    {
      "cell_type": "markdown",
      "metadata": {
        "id": "view-in-github",
        "colab_type": "text"
      },
      "source": [
        "<a href=\"https://colab.research.google.com/github/arpitamangal/supplyChainAnalytics/blob/master/Knapsack/Knapsack.ipynb\" target=\"_parent\"><img src=\"https://colab.research.google.com/assets/colab-badge.svg\" alt=\"Open In Colab\"/></a>"
      ]
    },
    {
      "cell_type": "markdown",
      "source": [
        "# Knapsack Problem\n",
        "\n",
        "Consider a thief who goes into a warehouse with a knapsack. There is a limit to how much weight the knapsack can carry. The warehouse has many items, each of which is divisible into arbitrarily small fragments eg. gold, silver, diamond dust, etc. The thief wants to fill her knapsack with the most profitable bundle of goods. How can she decide what this bundle is?\n",
        "\n",
        "The first stage in solving an optimization problem is modeling. And the very first as well as the most important step in modeling is to name your quantities. Let the knapsack capacity be W lbs. Let N denote the number of goods in the warehouse. Let the total weight of the ith good be wi and let the value of the ith good be vi.\n",
        "\n",
        "The next step is to decide what quantities we are free to choose. These are known as decision variables. In this case, the thief must decide how much of each item to carry. Let xi denote the fraction of the ith good carried away by the thief.\n",
        "\n",
        "The next two steps in modeling an optimization problem are to decide what our goals and restrictions are. The goal is commonly referred to as an objective function which we need to either maximize or minimize depending on the problem. In this case, the objective function is sum(vi*xi), which is the total profit made by the thief, and we need to maximize the objective function. The restrictions are that \n",
        "(a) the thief can not take more of a good than is available in the warehouse, and \n",
        "(b) the thief can not carry more weight than the knapsack capacity.\n"
      ],
      "metadata": {
        "id": "3YZEZLUpKIQ9"
      }
    },
    {
      "cell_type": "markdown",
      "source": [
        "### Model the above problem as a LP.\n",
        "### Consider a specific instance of the problem with N = 3 and W = 4 Let v = (2,3,4) and w = (5,20,3) Use Pyomo to obtain the optimal solution\n"
      ],
      "metadata": {
        "id": "LQ18izBaKPzJ"
      }
    },
    {
      "cell_type": "code",
      "source": [
        "!pip install -q pyomo\n",
        "!apt-get install -y -qq glpk-utils\n",
        "from pyomo.environ import *"
      ],
      "metadata": {
        "colab": {
          "base_uri": "https://localhost:8080/"
        },
        "id": "TDv9sIh1yq9o",
        "outputId": "8b306ec4-ab06-4bbd-eea1-2a5afa6612c1"
      },
      "execution_count": null,
      "outputs": [
        {
          "output_type": "stream",
          "name": "stdout",
          "text": [
            "\u001b[2K     \u001b[90m━━━━━━━━━━━━━━━━━━━━━━━━━━━━━━━━━━━━━━━━\u001b[0m \u001b[32m11.0/11.0 MB\u001b[0m \u001b[31m34.7 MB/s\u001b[0m eta \u001b[36m0:00:00\u001b[0m\n",
            "\u001b[2K     \u001b[90m━━━━━━━━━━━━━━━━━━━━━━━━━━━━━━━━━━━━━━━━\u001b[0m \u001b[32m49.6/49.6 KB\u001b[0m \u001b[31m1.7 MB/s\u001b[0m eta \u001b[36m0:00:00\u001b[0m\n",
            "\u001b[?25hSelecting previously unselected package libsuitesparseconfig5:amd64.\n",
            "(Reading database ... 122349 files and directories currently installed.)\n",
            "Preparing to unpack .../libsuitesparseconfig5_1%3a5.7.1+dfsg-2_amd64.deb ...\n",
            "Unpacking libsuitesparseconfig5:amd64 (1:5.7.1+dfsg-2) ...\n",
            "Selecting previously unselected package libamd2:amd64.\n",
            "Preparing to unpack .../libamd2_1%3a5.7.1+dfsg-2_amd64.deb ...\n",
            "Unpacking libamd2:amd64 (1:5.7.1+dfsg-2) ...\n",
            "Selecting previously unselected package libcolamd2:amd64.\n",
            "Preparing to unpack .../libcolamd2_1%3a5.7.1+dfsg-2_amd64.deb ...\n",
            "Unpacking libcolamd2:amd64 (1:5.7.1+dfsg-2) ...\n",
            "Selecting previously unselected package libglpk40:amd64.\n",
            "Preparing to unpack .../libglpk40_4.65-2_amd64.deb ...\n",
            "Unpacking libglpk40:amd64 (4.65-2) ...\n",
            "Selecting previously unselected package glpk-utils.\n",
            "Preparing to unpack .../glpk-utils_4.65-2_amd64.deb ...\n",
            "Unpacking glpk-utils (4.65-2) ...\n",
            "Setting up libsuitesparseconfig5:amd64 (1:5.7.1+dfsg-2) ...\n",
            "Setting up libamd2:amd64 (1:5.7.1+dfsg-2) ...\n",
            "Setting up libcolamd2:amd64 (1:5.7.1+dfsg-2) ...\n",
            "Setting up libglpk40:amd64 (4.65-2) ...\n",
            "Setting up glpk-utils (4.65-2) ...\n",
            "Processing triggers for man-db (2.9.1-1) ...\n",
            "Processing triggers for libc-bin (2.31-0ubuntu9.9) ...\n"
          ]
        }
      ]
    },
    {
      "cell_type": "code",
      "source": [
        "# create a model\n",
        "model = ConcreteModel()\n",
        "\n",
        "W = 4 #Knapsack capacity be W lbs\n",
        "N = 3 #number of goods\n",
        "\n",
        "# wi #weight of the ith good be wi\n",
        "# vi #value of the ith good be vi.\n",
        "# xi #fraction of the ith good carried away by the thief.\n",
        "\n",
        "v = {'gold':2, 'diamonds':3, 'silver':4}\n",
        "w = {'gold':5, 'diamonds':20, 'silver':3}\n",
        "\n",
        "items = list((v.keys()))\n",
        "\n",
        "# declare decision variables\n",
        "model.x = Var(items, domain= NonNegativeReals,bounds=(0,1)) #fraction\n",
        "\n",
        "# declare objective function: profit made by the thief\n",
        "model.profit = Objective(expr = sum( v[i]*model.x[i] for i in items), sense=maximize)\n",
        "\n",
        "# declare constraints\n",
        "model.weight = Constraint( expr = sum( w[i]*model.x[i] for i in items) <= W)\n",
        "model.pprint()"
      ],
      "metadata": {
        "colab": {
          "base_uri": "https://localhost:8080/"
        },
        "id": "WCi6cX0FLVvI",
        "outputId": "d1cff0c1-b460-4392-d552-1a90c9556b41"
      },
      "execution_count": null,
      "outputs": [
        {
          "output_type": "stream",
          "name": "stdout",
          "text": [
            "1 Set Declarations\n",
            "    x_index : Size=1, Index=None, Ordered=Insertion\n",
            "        Key  : Dimen : Domain : Size : Members\n",
            "        None :     1 :    Any :    3 : {'gold', 'diamonds', 'silver'}\n",
            "\n",
            "1 Var Declarations\n",
            "    x : Size=3, Index=x_index\n",
            "        Key      : Lower : Value : Upper : Fixed : Stale : Domain\n",
            "        diamonds :     0 :  None :     1 : False :  True : NonNegativeReals\n",
            "            gold :     0 :  None :     1 : False :  True : NonNegativeReals\n",
            "          silver :     0 :  None :     1 : False :  True : NonNegativeReals\n",
            "\n",
            "1 Objective Declarations\n",
            "    profit : Size=1, Index=None, Active=True\n",
            "        Key  : Active : Sense    : Expression\n",
            "        None :   True : maximize : 2*x[gold] + 3*x[diamonds] + 4*x[silver]\n",
            "\n",
            "1 Constraint Declarations\n",
            "    weight : Size=1, Index=None, Active=True\n",
            "        Key  : Lower : Body                                     : Upper : Active\n",
            "        None :  -Inf : 5*x[gold] + 20*x[diamonds] + 3*x[silver] :   4.0 :   True\n",
            "\n",
            "4 Declarations: x_index x profit weight\n"
          ]
        }
      ]
    },
    {
      "cell_type": "code",
      "source": [
        "\n",
        "SolverFactory('glpk', executable='/usr/bin/glpsol').solve(model).write()\n",
        "\n",
        "# display solution\n",
        "print('\\nProfit = ', model.profit())\n",
        "\n",
        "print('\\nDecision Variables')\n",
        "for i in items:\n",
        "  print(\"Fraction of \",i, \"=\", model.x[i]())\n",
        "\n",
        "print('\\nConstraints')\n",
        "print('weight = ', model.weight())\n"
      ],
      "metadata": {
        "colab": {
          "base_uri": "https://localhost:8080/"
        },
        "id": "2bzWNiOiRkjC",
        "outputId": "9f7b0e7f-4a7b-4a3b-eeb9-0ce59d90d9f9"
      },
      "execution_count": null,
      "outputs": [
        {
          "output_type": "stream",
          "name": "stdout",
          "text": [
            "# ==========================================================\n",
            "# = Solver Results                                         =\n",
            "# ==========================================================\n",
            "# ----------------------------------------------------------\n",
            "#   Problem Information\n",
            "# ----------------------------------------------------------\n",
            "Problem: \n",
            "- Name: unknown\n",
            "  Lower bound: 4.4\n",
            "  Upper bound: 4.4\n",
            "  Number of objectives: 1\n",
            "  Number of constraints: 2\n",
            "  Number of variables: 4\n",
            "  Number of nonzeros: 4\n",
            "  Sense: maximize\n",
            "# ----------------------------------------------------------\n",
            "#   Solver Information\n",
            "# ----------------------------------------------------------\n",
            "Solver: \n",
            "- Status: ok\n",
            "  Termination condition: optimal\n",
            "  Statistics: \n",
            "    Branch and bound: \n",
            "      Number of bounded subproblems: 0\n",
            "      Number of created subproblems: 0\n",
            "  Error rc: 0\n",
            "  Time: 0.014862537384033203\n",
            "# ----------------------------------------------------------\n",
            "#   Solution Information\n",
            "# ----------------------------------------------------------\n",
            "Solution: \n",
            "- number of solutions: 0\n",
            "  number of solutions displayed: 0\n",
            "\n",
            "Profit =  4.4\n",
            "\n",
            "Decision Variables\n",
            "Fraction of  gold = 0.2\n",
            "Fraction of  diamonds = 0.0\n",
            "Fraction of  silver = 1.0\n",
            "\n",
            "Constraints\n",
            "weight =  4.0\n"
          ]
        }
      ]
    },
    {
      "cell_type": "markdown",
      "source": [
        "### Constrains that are tight/binding ?\n",
        "1.   Total weight carried = knapsack capacit\n",
        "2.   Fraction of diamong carried = 0\n",
        "3.   Fraction of silver carried = 1"
      ],
      "metadata": {
        "id": "T96oBng_Ke44"
      }
    },
    {
      "cell_type": "markdown",
      "source": [
        "### Suppose a crime syndicate wants to buy out the thief. They offer to pay the thief a price y1 for the per lb gold, a price y2 for the per lb diamonds, a price y3 for the per lb silver, and a price y4 per lb for the knapsack. The syndicate wants to minimize the price it pays for the goods. What is the solution for this problem. What is the connection to the previous problem ?\n",
        "\n",
        "Duality problem\n",
        "\n",
        "Objective function:  Earlier we were trying to maximise the profit. Now we want to minimise the price (value).\n",
        "\n",
        "Constraints: Earlier the total weight carried should be less than equal to the weight of knapsack. Now the price crime syndicate pays the thief should be greater than or equal to the actual value of the item only then the thief would sell."
      ],
      "metadata": {
        "id": "UZUT8f2VK0lM"
      }
    },
    {
      "cell_type": "code",
      "source": [
        "\n",
        "# create a model\n",
        "model = ConcreteModel()\n",
        "\n",
        "W = 4 #Knapsack capacity be W lbs\n",
        "N = 3 #number of goods in the warehouse\n",
        "\n",
        "w = {'gold':5, 'diamonds':20, 'silver':3,'Knapsack':4}\n",
        "v = {'gold':2, 'diamonds':3, 'silver':4}\n",
        "\n",
        "items = list((w.keys()))\n",
        "\n",
        "# declare decision variables\n",
        "model.y = Var(items, domain= NonNegativeReals) #fraction\n",
        "\n",
        "# declare objective function: profit made by the thief\n",
        "model.price = Objective(expr = sum( w[i]*model.y[i] for i in items), sense=minimize)\n",
        "\n",
        "# declare constraints\n",
        "model.price_gold = Constraint( expr = (w['gold']*(model.y['Knapsack'] + model.y['gold'])) >= v['gold'])\n",
        "model.price_diamonds = Constraint( expr = (w['diamonds']*(model.y['Knapsack'] + model.y['diamonds'])) >= v['diamonds'])\n",
        "model.price_silver = Constraint( expr = (w['silver']*(model.y['Knapsack'] + model.y['silver'])) >= v['silver'])\n",
        "model.pprint()"
      ],
      "metadata": {
        "colab": {
          "base_uri": "https://localhost:8080/"
        },
        "id": "wg3EBBqvK24k",
        "outputId": "f7a15611-263b-4f2d-b231-e256f706e93d"
      },
      "execution_count": null,
      "outputs": [
        {
          "output_type": "stream",
          "name": "stdout",
          "text": [
            "1 Set Declarations\n",
            "    y_index : Size=1, Index=None, Ordered=Insertion\n",
            "        Key  : Dimen : Domain : Size : Members\n",
            "        None :     1 :    Any :    4 : {'gold', 'diamonds', 'silver', 'Knapsack'}\n",
            "\n",
            "1 Var Declarations\n",
            "    y : Size=4, Index=y_index\n",
            "        Key      : Lower : Value : Upper : Fixed : Stale : Domain\n",
            "        Knapsack :     0 :  None :  None : False :  True : NonNegativeReals\n",
            "        diamonds :     0 :  None :  None : False :  True : NonNegativeReals\n",
            "            gold :     0 :  None :  None : False :  True : NonNegativeReals\n",
            "          silver :     0 :  None :  None : False :  True : NonNegativeReals\n",
            "\n",
            "1 Objective Declarations\n",
            "    price : Size=1, Index=None, Active=True\n",
            "        Key  : Active : Sense    : Expression\n",
            "        None :   True : minimize : 5*y[gold] + 20*y[diamonds] + 3*y[silver] + 4*y[Knapsack]\n",
            "\n",
            "3 Constraint Declarations\n",
            "    price_diamonds : Size=1, Index=None, Active=True\n",
            "        Key  : Lower : Body                           : Upper : Active\n",
            "        None :   3.0 : 20*(y[Knapsack] + y[diamonds]) :  +Inf :   True\n",
            "    price_gold : Size=1, Index=None, Active=True\n",
            "        Key  : Lower : Body                      : Upper : Active\n",
            "        None :   2.0 : 5*(y[Knapsack] + y[gold]) :  +Inf :   True\n",
            "    price_silver : Size=1, Index=None, Active=True\n",
            "        Key  : Lower : Body                        : Upper : Active\n",
            "        None :   4.0 : 3*(y[Knapsack] + y[silver]) :  +Inf :   True\n",
            "\n",
            "6 Declarations: y_index y price price_gold price_diamonds price_silver\n"
          ]
        }
      ]
    },
    {
      "cell_type": "code",
      "source": [
        "\n",
        "SolverFactory('glpk', executable='/usr/bin/glpsol').solve(model).write()\n",
        "\n",
        "# display solution\n",
        "print('\\nPrice = ', model.price())\n",
        "\n",
        "print('\\nDecision Variables')\n",
        "for i in items:\n",
        "  print(\"Price of \" ,i, \"=\", model.y[i]())\n",
        "\n",
        "print('\\nConstraints')\n",
        "print('price_gold = ', model.price_gold())\n",
        "print('price_diamonds = ', model.price_diamonds())\n",
        "print('price_silver = ', model.price_silver())"
      ],
      "metadata": {
        "colab": {
          "base_uri": "https://localhost:8080/"
        },
        "id": "cApWl5_mlm4y",
        "outputId": "632f89c2-4046-4e83-c01b-accddd47d3a4"
      },
      "execution_count": null,
      "outputs": [
        {
          "output_type": "stream",
          "name": "stdout",
          "text": [
            "# ==========================================================\n",
            "# = Solver Results                                         =\n",
            "# ==========================================================\n",
            "# ----------------------------------------------------------\n",
            "#   Problem Information\n",
            "# ----------------------------------------------------------\n",
            "Problem: \n",
            "- Name: unknown\n",
            "  Lower bound: 4.4\n",
            "  Upper bound: 4.4\n",
            "  Number of objectives: 1\n",
            "  Number of constraints: 4\n",
            "  Number of variables: 5\n",
            "  Number of nonzeros: 7\n",
            "  Sense: minimize\n",
            "# ----------------------------------------------------------\n",
            "#   Solver Information\n",
            "# ----------------------------------------------------------\n",
            "Solver: \n",
            "- Status: ok\n",
            "  Termination condition: optimal\n",
            "  Statistics: \n",
            "    Branch and bound: \n",
            "      Number of bounded subproblems: 0\n",
            "      Number of created subproblems: 0\n",
            "  Error rc: 0\n",
            "  Time: 0.018505096435546875\n",
            "# ----------------------------------------------------------\n",
            "#   Solution Information\n",
            "# ----------------------------------------------------------\n",
            "Solution: \n",
            "- number of solutions: 0\n",
            "  number of solutions displayed: 0\n",
            "\n",
            "Price =  4.399999999999999\n",
            "\n",
            "Decision Variables\n",
            "Price of  gold = 0.0\n",
            "Price of  diamonds = 0.0\n",
            "Price of  silver = 0.933333333333333\n",
            "Price of  Knapsack = 0.4\n",
            "\n",
            "Constraints\n",
            "price_gold =  2.0\n",
            "price_diamonds =  8.0\n",
            "price_silver =  3.999999999999999\n"
          ]
        }
      ]
    },
    {
      "cell_type": "markdown",
      "source": [
        "### The above instance had a unique optimum solution. Will this be true for all instances of the knapsack problem?.\n",
        "\n",
        "No, not all instances of the knapsack problem have an optimum solution. Finding an optimal solution for larger instances of the problem can be computationally infeasible. However, for smaller instances of the problem, an optimal solution can be found efficiently like in this case.\n",
        "\n",
        "### What happens if we remove the constraint x ≥ 0 in the first part?\n",
        "\n",
        "If we remove the constraint x ≥ 0 , it would mean that the fraction of each item selected could take on negative values. This would result in a situation where we could subtract infinitely many items from the knapsack, which would lead to an unbounded objective function. This means that the optimal solution does not exist, and the linear optimization problem would have no feasible solution.\n",
        "Therefore, the constraint x ≥ 0 is necessary to ensure that only non-negative fractions are considered, and to prevent the problem from being unbounded.\n",
        "\n",
        "### Some more feasible solutions to this LP?\n",
        "\n",
        "Some more feasible solutions:\n",
        "*   gold = 0.6, diamond = 0, silver = 0.\n",
        "*   gold = 0.4, diamond = 0.1, silver = 0\n",
        "*   gold = 0, diamond = 0.05, silver = 1\n",
        "\n",
        "Any values to decision variables that satisfies all the constraints is a feasible solution.\n",
        "\n",
        "### More realistic applications for the knapsack problem?\n",
        "\n",
        "*   Transportation planning: The knapsack problem can be used in transportation planning to optimize the loading of goods into vehicles, such as trucks or planes, to maximize the total value of the goods transported.\n",
        "*   Portfolio optimization: The knapsack problem can be used to optimize investment portfolios by selecting the best combination of assets that maximize return while staying within budget constraints.\n",
        "*   Resource allocation: The knapsack problem can be used to determine the optimal allocation of resources, such as staff, equipment, or budget, to achieve a certain objective or goal.\n",
        "\n",
        "### Why might it be practically important that only one good is chosen fractionally?\n",
        "\n",
        "We observe that, gold is the only item that is partially chosen, while diamonds are completely left behind, and silver is fully selected. There is only one best solution to solve this particular knapsack problem. In order to fully determine the values of the three variables, we require three linear equations. Therefore, we need at least three of our inequalities to be satisfied with equality, which means they must be tight. One of the condition is the total weight must not exceed the capacity of the knapsack. We need two more conditions. It is impossible for x1 to be both greater than or equal to 0 and less than or equal to 1 at the same time, and the same is true for x2 and x3. Therefore, each item can only contribute to one tight constraint. As a result, two different items must contribute to the two tight constraints, which means neither of those items can be selected partially. This leaves only one item that can be chosen partially in the optimal solution. Therefore, in order to determine an optimal solution it is practically important to have only one good chosen fractionally."
      ],
      "metadata": {
        "id": "VLSSbdK9K6q0"
      }
    }
  ]
}